{
 "cells": [
  {
   "cell_type": "code",
   "execution_count": null,
   "metadata": {},
   "outputs": [],
   "source": [
    "import torch\n",
    "import torch.nn as nn\n",
    "import torch.nn.functional as F\n",
    "import torch.utils.data as data"
   ]
  },
  {
   "cell_type": "code",
   "execution_count": null,
   "metadata": {},
   "outputs": [],
   "source": [
    "class DataLoaderSegmentation(data.Dataset):\n",
    "    def __init__(self, folder_path):\n",
    "        super(DataLoaderSegmentation, self).__init__()\n",
    "        self.img_files = glob.glob(os.path.join(folder_path,'image','*.png')\n",
    "        self.mask_files = []\n",
    "        for img_path in img_files:\n",
    "             self.mask_files.append(os.path.join(folder_path,'mask',os.path.basename(img_path)) \n",
    "\n",
    "    def __getitem__(self, index):\n",
    "        img_path = self.img_files[index]\n",
    "        mask_path = self.mask_files[index]\n",
    "        data = use opencv or pil read image using img_path\n",
    "        label =use opencv or pil read label  using mask_path\n",
    "        return torch.from_numpy(data).float(), torch.from_numpy(label).float()\n",
    "\n",
    "    def __len__(self):\n",
    "        return len(self.img_files)"
   ]
  },
  {
   "cell_type": "code",
   "execution_count": null,
   "metadata": {},
   "outputs": [],
   "source": [
    "class ConvBlock(nn.Module):\n",
    "    def __init__(self, in_channels, out_channels, mid_channels=None):\n",
    "        super().__init__()\n",
    "        if not mid_channels:\n",
    "            mid_channels = out_channels\n",
    "        self.conv_block = nn.Sequential(\n",
    "        nn.Conv2d(in_channels, mid_channels, kernel_size=3, padding=1),\n",
    "        nn.BatchNorm2d(mid_channels),\n",
    "        nn.ReLU(inplace=True),\n",
    "        nn.Conv2d(mid_channels, out_channels, kernel_size=3, padding=1),\n",
    "        nn.BatchNorm2d(out_channels),\n",
    "        nn.ReLU(inplace=True))\n",
    "        \n",
    "    def forward(self, x):\n",
    "        return self.conv_block(x)\n",
    "\n",
    "\n",
    "class Down(nn.Module):\n",
    "    \"\"\"Downscaling with maxpool then double conv\"\"\"\n",
    "\n",
    "    def __init__(self, in_channels, out_channels):\n",
    "        super().__init__()\n",
    "        self.maxpool_conv = nn.Sequential(\n",
    "            nn.MaxPool2d(2),\n",
    "            ConvBlock(in_channels, out_channels)\n",
    "        )\n",
    "\n",
    "    def forward(self, x):\n",
    "        return self.maxpool_conv(x)\n",
    "\n",
    "class Up(nn.Module):\n",
    "    \"\"\"Upscaling then double conv\"\"\"\n",
    "\n",
    "    def __init__(self, in_channels, out_channels, bilinear=True):\n",
    "        super().__init__()\n",
    "\n",
    "        # if bilinear, use the normal convolutions to reduce the number of channels\n",
    "        if bilinear:\n",
    "            self.up = nn.Upsample(scale_factor=2, mode='bilinear', align_corners=True)\n",
    "            self.conv = DoubleConv(in_channels, out_channels, in_channels // 2)\n",
    "        else:\n",
    "            self.up = nn.ConvTranspose2d(in_channels , in_channels // 2, kernel_size=2, stride=2)\n",
    "            self.conv = DoubleConv(in_channels, out_channels)\n",
    "\n",
    "\n",
    "    def forward(self, x1, x2):\n",
    "        x1 = self.up(x1)\n",
    "        # input is CHW\n",
    "        diffY = x2.size()[2] - x1.size()[2]\n",
    "        diffX = x2.size()[3] - x1.size()[3]\n",
    "\n",
    "        x1 = F.pad(x1, [diffX // 2, diffX - diffX // 2,\n",
    "                        diffY // 2, diffY - diffY // 2])\n",
    "        \n",
    "        x = torch.cat([x2, x1], dim=1)\n",
    "        return self.conv(x)\n",
    "\n",
    "\n",
    "class OutConv(nn.Module):\n",
    "    def __init__(self, in_channels, out_channels):\n",
    "        super(OutConv, self).__init__()\n",
    "        self.conv = nn.Conv2d(in_channels, out_channels, kernel_size=1)\n",
    "\n",
    "    def forward(self, x):\n",
    "        return self.conv(x)\n",
    "\n",
    "class BayesUNet(nn.Module):\n",
    "    def __init__(self, n_channels, n_classes, bilinear=True,Bayes=True,dropout_prob=.5):\n",
    "        super(BayesUNet, self).__init__()\n",
    "        self.n_channels = n_channels\n",
    "        self.n_classes = n_classes\n",
    "        self.bilinear = bilinear\n",
    "        \n",
    "        self.inc = ConvBlock(n_channels, 64)\n",
    "        self.down1 = Down(64, 128)\n",
    "        self.down2 = Down(128, 256)\n",
    "         \n",
    "        self.down3 = Down(256, 512)\n",
    "        \n",
    "        factor = 2 if bilinear else 1\n",
    "        self.down4 = Down(512, 1024 // factor)\n",
    "        self.up1 = Up(1024, 512 // factor, bilinear)\n",
    "        self.up2 = Up(512, 256 // factor, bilinear)\n",
    "        self.up3 = Up(256, 128 // factor, bilinear)\n",
    "        self.up4 = Up(128, 64, bilinear)\n",
    "        self.outc = OutConv(64, n_classes)\n",
    "        self.aleatoric = OutConv(64, n_classes)\n",
    "        if Bayes=True:\n",
    "            self.dropout1 = nn.Dropout(dropout_prob)\n",
    "            self.dropout2 = nn.Dropout(dropout_prob)\n",
    "            self.dropout3 = nn.Dropout(dropout_prob)\n",
    "            self.dropout4 = nn.Dropout(dropout_prob)\n",
    "            self.dropout5 = nn.Dropout(dropout_prob)\n",
    "            self.dropout6 = nn.Dropout(dropout_prob)\n",
    "\n",
    "    def forward(self, x):\n",
    "        x1 = self.inc(x)\n",
    "        x2 = self.down1(x1)\n",
    "        x3 = self.down2(x2)\n",
    "        \n",
    "        x3 = self.dropout1(x3)\n",
    "        x4 = self.down3(x3)\n",
    "        \n",
    "        x4 = self.dropout2(x4)\n",
    "        x5 = self.down4(x4)\n",
    "        \n",
    "        x5 = self.dropout3(x5)\n",
    "        x = self.up1(x5, x4)\n",
    "        \n",
    "        x = self.dropout4(x)\n",
    "        x = self.up2(x, x3)\n",
    "        \n",
    "        x = self.dropout5(x)\n",
    "        x = self.up3(x, x2)\n",
    "        \n",
    "        x = self.dropout6(x)\n",
    "        x = self.up4(x, x1)\n",
    "        \n",
    "        logits = self.outc(x)\n",
    "        uncertainty = self.aleatoric(x)\n",
    "        return logits,uncertainty\n",
    "    \n",
    "    def train(x,y,epochs,loss):\n",
    "        \n",
    "        "
   ]
  },
  {
   "cell_type": "code",
   "execution_count": null,
   "metadata": {},
   "outputs": [],
   "source": [
    "class Bayes_loss(nn.Module):\n",
    "    def __init__(self,num_samples=10,num_classes=num_classes,weight=None,output_shape=(128,128)):\n",
    "        super(Bayes_loss,self).__init__()\n",
    "        self.num_samples=num_samples\n",
    "        self.num_classes = num_classes\n",
    "        self.weight = weight\n",
    "        self.cross_entropy = nn.CrossEntropyLoss(weight)\n",
    "        self.elu=nn.ELU()\n",
    "        self.output_shape = output_shape\n",
    "    \n",
    "    def gaussian_cross_entropy(self,dist,outputs,targets,undistorted_loss,std):\n",
    "        std_samples = dist.sample_n(self.num_classes)\n",
    "        std_samples = std_samples.view(1,self.num_classes,self.output_shape[0],self.output_shape[1])\n",
    "        std_samples =std*std_samples.type(torch.cuda.FloatTensor)\n",
    "        temp = outputs + std_samples #.unsqueeze(0)\n",
    "        distorted_loss = self.cross_entropy(temp, targets)\n",
    "        diff = undistorted_loss - distorted_loss\n",
    "        return -self.elu(diff)\n",
    "\n",
    "    \n",
    "    def forward(self,outputs,targets,log_var):\n",
    "        variance=log_var\n",
    "        std = torch.sqrt(variance+.0000001) #size 32 x 128 x 128\n",
    "        variance_depressor = torch.exp(variance) - torch.ones_like(variance)\n",
    "        variance_depressor = variance_depressor.view(1,-1)\n",
    "        variance_depressor=torch.mean(variance_depressor) # scalar value\n",
    "        \n",
    "        undistorted_loss = self.cross_entropy(outputs,targets)\n",
    "\n",
    "        mean=torch.zeros(self.output_shape[0],self.output_shape[1]).type(torch.cuda.FloatTensor)\n",
    "        std1=torch.eye(self.output_shape[0],self.output_shape[1]).type(torch.cuda.FloatTensor)\n",
    "        dist = MultivariateNormal(mean,std1)\n",
    "        #dist = Normal(torch.zeros_like(std),std)\n",
    "        #samples = dist.sample(12)\n",
    "        mc_sample=0\n",
    "        for i in range(self.num_samples):\n",
    "            mc_sample =mc_sample+self.gaussian_cross_entropy(dist,outputs,targets,undistorted_loss,std)\n",
    "\n",
    "        variance_loss = ((mc_sample/self.num_smaples) * undistorted_loss)\n",
    "    \n",
    "        return variance_loss+ undistorted_loss +variance_depressor"
   ]
  },
  {
   "cell_type": "code",
   "execution_count": 1,
   "metadata": {},
   "outputs": [],
   "source": [
    "import pandas as pd\n",
    "import numpy as np\n",
    "import cv2\n",
    "import os"
   ]
  },
  {
   "cell_type": "code",
   "execution_count": 2,
   "metadata": {},
   "outputs": [],
   "source": [
    "images = os.listdir('CamVid/train/')\n",
    "df = pd.read_csv('CamVid/camvid11.csv')"
   ]
  },
  {
   "cell_type": "code",
   "execution_count": 3,
   "metadata": {},
   "outputs": [
    {
     "name": "stdout",
     "output_type": "stream",
     "text": [
      "CamVid/train/0016E5_04590.png\n"
     ]
    }
   ],
   "source": [
    "print(str('CamVid/train/'+images[0]))"
   ]
  },
  {
   "cell_type": "code",
   "execution_count": 4,
   "metadata": {},
   "outputs": [],
   "source": [
    "x = cv2.imread(str('CamVid/train_labels/'+images[0][:-4]+'_L.png'))"
   ]
  },
  {
   "cell_type": "code",
   "execution_count": 22,
   "metadata": {},
   "outputs": [
    {
     "data": {
      "text/plain": [
       "(720, 960, 3)"
      ]
     },
     "execution_count": 22,
     "metadata": {},
     "output_type": "execute_result"
    }
   ],
   "source": [
    "x.shape#bgr"
   ]
  },
  {
   "cell_type": "code",
   "execution_count": null,
   "metadata": {},
   "outputs": [],
   "source": [
    "for img in images[:1]:\n",
    "    img_path = str('CamVid/train/'+img)\n",
    "    label_path = str('CamVid/train_labels/'+img[:-4]+'_L.png')\n",
    "    mask_path = str('CamVid/train_mask/'+img)\n",
    "    img = cv2.imread(img_path)\n",
    "    label = cv2.imread(label_path)\n",
    "    \n",
    "    resize_img = cv2.resize(img, (256 , 256), cv2.INTER_NEAREST)\n",
    "    resize_label = cv2.resize(label, (256 , 256), cv2.INTER_NEAREST)\n",
    "    mask = convert_to_mask(resize_label,df)\n",
    "    cv2.imwrite(mask_path, mask)"
   ]
  },
  {
   "cell_type": "code",
   "execution_count": 38,
   "metadata": {},
   "outputs": [
    {
     "data": {
      "text/plain": [
       "(720, 960, 3)"
      ]
     },
     "execution_count": 38,
     "metadata": {},
     "output_type": "execute_result"
    }
   ],
   "source": [
    "x.shape"
   ]
  },
  {
   "cell_type": "code",
   "execution_count": 23,
   "metadata": {},
   "outputs": [
    {
     "data": {
      "image/png": "[encoded data removed]",
      "text/plain": [
       "<Figure size 432x288 with 1 Axes>"
      ]
     },
     "metadata": {
      "needs_background": "light"
     },
     "output_type": "display_data"
    }
   ],
   "source": [
    "%matplotlib inline\n",
    "from matplotlib import pyplot as plt\n",
    "plt.imshow(x)\n",
    "plt.show()"
   ]
  },
  {
   "cell_type": "code",
   "execution_count": 44,
   "metadata": {},
   "outputs": [],
   "source": [
    "\n",
    "def convert_to_mask(label,df):\n",
    "    mask = np.zeros((256,256))\n",
    "    for i in range(256):\n",
    "        for j in range(256):\n",
    "            for name in df['name']:\n",
    "                r = int(df[df['name']==name]['r'])\n",
    "                g = int(df[df['name']==name]['g'])\n",
    "                b = int(df[df['name']==name]['b'])\n",
    "                class_label = int(df[df['name']==name]['class'])\n",
    "                if label[i,j,0]==b and label[i,j,1]==g and label[i,j,2]==r:\n",
    "                    mask[i,j]= class_label\n",
    "    return mask"
   ]
  },
  {
   "cell_type": "code",
   "execution_count": 15,
   "metadata": {},
   "outputs": [
    {
     "ename": "IndexError",
     "evalue": "index 720 is out of bounds for axis 0 with size 720",
     "output_type": "error",
     "traceback": [
      "\u001b[0;31m---------------------------------------------------------------------------\u001b[0m",
      "\u001b[0;31mIndexError\u001b[0m                                Traceback (most recent call last)",
      "\u001b[0;32m<ipython-input-15-75ea7a33765d>\u001b[0m in \u001b[0;36m<module>\u001b[0;34m\u001b[0m\n\u001b[0;32m----> 1\u001b[0;31m \u001b[0my\u001b[0m \u001b[0;34m=\u001b[0m \u001b[0mx\u001b[0m\u001b[0;34m[\u001b[0m\u001b[0mnp\u001b[0m\u001b[0;34m.\u001b[0m\u001b[0mwhere\u001b[0m\u001b[0;34m(\u001b[0m\u001b[0mx\u001b[0m\u001b[0;34m[\u001b[0m\u001b[0mx\u001b[0m\u001b[0;34m[\u001b[0m\u001b[0;34m:\u001b[0m\u001b[0;34m,\u001b[0m\u001b[0;34m:\u001b[0m\u001b[0;34m,\u001b[0m\u001b[0;36m0\u001b[0m\u001b[0;34m]\u001b[0m\u001b[0;34m==\u001b[0m\u001b[0;36m0\u001b[0m\u001b[0;34m]\u001b[0m\u001b[0;34m)\u001b[0m\u001b[0;34m]\u001b[0m\u001b[0;34m\u001b[0m\u001b[0;34m\u001b[0m\u001b[0m\n\u001b[0m\u001b[1;32m      2\u001b[0m \u001b[0my\u001b[0m\u001b[0;34m\u001b[0m\u001b[0;34m\u001b[0m\u001b[0m\n",
      "\u001b[0;31mIndexError\u001b[0m: index 720 is out of bounds for axis 0 with size 720"
     ]
    }
   ],
   "source": []
  }
 ],
 "metadata": {
  "kernelspec": {
   "display_name": "Python 3",
   "language": "python",
   "name": "python3"
  },
  "language_info": {
   "codemirror_mode": {
    "name": "ipython",
    "version": 3
   },
   "file_extension": ".py",
   "mimetype": "text/x-python",
   "name": "python",
   "nbconvert_exporter": "python",
   "pygments_lexer": "ipython3",
   "version": "3.7.4"
  }
 },
 "nbformat": 4,
 "nbformat_minor": 4
}
