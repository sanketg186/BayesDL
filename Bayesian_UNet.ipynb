{
 "cells": [
  {
   "cell_type": "code",
   "execution_count": 1,
   "metadata": {},
   "outputs": [],
   "source": [
    "from models import BayesUNet\n",
    "from models import Bayes_loss\n",
    "from models import TrainModel\n",
    "from models import DataLoaderSegmentation\n",
    "import torch.utils.data as data\n",
    "from torch.utils.data.sampler import RandomSampler, SequentialSampler\n",
    "from torch import optim\n",
    "import torch\n",
    "import numpy as np\n",
    "import torch.nn.functional as F"
   ]
  },
  {
   "cell_type": "code",
   "execution_count": 2,
   "metadata": {},
   "outputs": [],
   "source": [
    "# give complete path to the folder that contains images and mask, image folder must have name train and\n",
    "# mask folder must have name train_mask\n",
    "train_ds = DataLoaderSegmentation('/data/camvid/',12)"
   ]
  },
  {
   "cell_type": "code",
   "execution_count": 3,
   "metadata": {},
   "outputs": [],
   "source": [
    "class_weight = np.array([0.49549715,  0.22617886,  1.52998874,  6.7099829 ,  1.85306495,\n",
    "        8.82939641,  0.18400628,  0.7427211 , 27.89365631,  0.35258549,\n",
    "        0.47333497,  2.32514232])"
   ]
  },
  {
   "cell_type": "code",
   "execution_count": 4,
   "metadata": {},
   "outputs": [],
   "source": [
    "model = BayesUNet(3, 12, bilinear=True,Bayes=True,dropout_prob=.5)\n",
    "opt = optim.Adam(model.parameters())\n",
    "loss = Bayes_loss(num_samples=10,num_classes=12,weight=torch.from_numpy(class_weight).float().cuda(),output_shape=(256,256))"
   ]
  },
  {
   "cell_type": "code",
   "execution_count": 5,
   "metadata": {},
   "outputs": [
    {
     "name": "stderr",
     "output_type": "stream",
     "text": [
      "/new_data/gpu/susmitha/ENTER/lib/python3.7/site-packages/torch/distributions/distribution.py:134: UserWarning: sample_n will be deprecated. Use .sample((n,)) instead\n",
      "  warnings.warn('sample_n will be deprecated. Use .sample((n,)) instead', UserWarning)\n"
     ]
    },
    {
     "name": "stdout",
     "output_type": "stream",
     "text": [
      "Epoch:  0   Train Loss:  2.3507183396073215\n",
      "Epoch:  1   Train Loss:  1.965198044854451\n",
      "Epoch:  2   Train Loss:  1.8830499920418593\n"
     ]
    }
   ],
   "source": [
    "train = TrainModel(model_name=model,device = 'gpu',epochs = 3,loss = loss,optimizer=opt)\n",
    "train.train(train_ds,1)"
   ]
  },
  {
   "cell_type": "code",
   "execution_count": null,
   "metadata": {},
   "outputs": [],
   "source": []
  }
 ],
 "metadata": {
  "kernelspec": {
   "display_name": "Python 3",
   "language": "python",
   "name": "python3"
  },
  "language_info": {
   "codemirror_mode": {
    "name": "ipython",
    "version": 3
   },
   "file_extension": ".py",
   "mimetype": "text/x-python",
   "name": "python",
   "nbconvert_exporter": "python",
   "pygments_lexer": "ipython3",
   "version": "3.7.9"
  }
 },
 "nbformat": 4,
 "nbformat_minor": 2
}
